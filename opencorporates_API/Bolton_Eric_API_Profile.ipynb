{
 "cells": [
  {
   "cell_type": "markdown",
   "metadata": {},
   "source": [
    "# opencorporates API Profile"
   ]
  },
  {
   "cell_type": "markdown",
   "metadata": {},
   "source": [
    "Creation date: 02/05/18 10:51:58 PM\n",
    "\n",
    "@author Eric Bolton <edbltn@gmail.com>"
   ]
  },
  {
   "cell_type": "markdown",
   "metadata": {},
   "source": [
    "## Query 1: Search for companies incorporated in Bermuda\n",
    "\n",
    "The opencorporates API lets users perform searches of their database and returns the results in JSON format. To test this feature, I used the following query:\n",
    "\n",
    "'https://api.opencorporates.com/v0.4/companies/search?jurisdiction_code=bm'\n",
    "\n",
    "To generate this query, I modified code by Nikhil Kumar at [Geeks for Geeks](https://www.geeksforgeeks.org/get-post-requests-using-python/). The link provides a useful explanation for how to perform GET requests."
   ]
  },
  {
   "cell_type": "code",
   "execution_count": 6,
   "metadata": {},
   "outputs": [
    {
     "name": "stdout",
     "output_type": "stream",
     "text": [
      "200\n"
     ]
    }
   ],
   "source": [
    "import requests\n",
    "\n",
    "# Set up token and URL\n",
    "api_token = # YOUR API TOKEN HERE\n",
    "search_url = 'https://api.opencorporates.com/v0.4/companies/search'\n",
    "\n",
    "# Set up parameters\n",
    "country_code = 'bm'\n",
    "date_range = '1995-01-01:2000-01-01'\n",
    "\n",
    "data_params = {\n",
    "    'api_token':api_token,\n",
    "    'incorporation_date':date_range,\n",
    "    'jurisdiction_code':country_code\n",
    "}\n",
    "\n",
    "# Perform and process get request\n",
    "r = requests.get(url = search_url, params=data_params)\n",
    "print(r.status_code)\n",
    "\n",
    "data = r.json()"
   ]
  },
  {
   "cell_type": "markdown",
   "metadata": {},
   "source": [
    "The API token (which can be obtained through a short application at https://opencorporates.com/api_accounts/new) enables enhanced usage of the API, such as searching based on an entity's incorporation date, which we're doing in this case\n",
    "\n",
    "'incorporation_date' enables users to limit results to firms within a specified date range, such as '1995-01-01:2000-01-01.'\n",
    "\n",
    "The request returns the following response:"
   ]
  },
  {
   "cell_type": "code",
   "execution_count": null,
   "metadata": {
    "collapsed": true
   },
   "outputs": [],
   "source": [
    "{'api_version': '0.4', 'results': {'companies': [<companies>], 'page': 1, 'per_page': 30, 'total_pages': 233, 'total_count': 6967}}"
   ]
  },
  {
   "cell_type": "markdown",
   "metadata": {},
   "source": [
    "For brevity, the 30 companies displayed in the 'companies' array are excluded.\n",
    "\n",
    "The response contains the total number of companies, which tells us in this case that there were 6967 companies incorporated in Bermuda between January 1st, 1995 and January 1st, 2000. It also contains first page of 30 companies. By setting parameters for 'per_page' and 'page,' one can change which page the request returns, and how many companies to display.\n",
    "\n",
    "To examine this object further, we can use the fact that JSON objects have type \"dict\" in Python to define the following function, 'printkeys,' which will print a JSON Object's keys in markdown:"
   ]
  },
  {
   "cell_type": "code",
   "execution_count": 9,
   "metadata": {
    "collapsed": true
   },
   "outputs": [],
   "source": [
    "# Prints the key hierarchy of the JSON Object sub_data\n",
    "def printkeys(sub_data,level):\n",
    "    indent = \"* \"\n",
    "    \n",
    "    # Set up indentation \n",
    "    for i in range(0, level):\n",
    "        indent = \"  \" + indent\n",
    "    \n",
    "    # Check that the data has type dict\n",
    "    if type(sub_data) == dict:\n",
    "        \n",
    "        # Now recurse on each of its keys\n",
    "        for key in sub_data.keys():\n",
    "            markdown = indent + key\n",
    "            print(markdown)  \n",
    "            printkeys(sub_data[key],level+1)\n",
    "            \n",
    "    # If data is a list, recurse on first element of the list\n",
    "    if type(sub_data)== list:\n",
    "        if sub_data: # check that list is not empty\n",
    "            printkeys(sub_data[0],level+1)"
   ]
  },
  {
   "cell_type": "markdown",
   "metadata": {},
   "source": [
    "I'm choosing to print the keys of only the first element of any list that the recursion tree encounters, for simplicity's sake. This is because some lists have objects whose properties differ from each other, which leads their keys to differ.\n",
    "\n",
    "Now we need only call:"
   ]
  },
  {
   "cell_type": "code",
   "execution_count": null,
   "metadata": {},
   "outputs": [],
   "source": [
    "printkeys(data,0)"
   ]
  },
  {
   "cell_type": "markdown",
   "metadata": {},
   "source": [
    "This yields the following markdown list:\n",
    "\n",
    "* api_version\n",
    "* results\n",
    "  * companies\n",
    "      * company\n",
    "        * name\n",
    "        * company_number\n",
    "        * jurisdiction_code\n",
    "        * incorporation_date\n",
    "        * dissolution_date\n",
    "        * company_type\n",
    "        * registry_url\n",
    "        * branch\n",
    "        * branch_status\n",
    "        * inactive\n",
    "        * current_status\n",
    "        * created_at\n",
    "        * updated_at\n",
    "        * retrieved_at\n",
    "        * opencorporates_url\n",
    "        * previous_names\n",
    "        * source\n",
    "          * publisher\n",
    "          * url\n",
    "          * retrieved_at\n",
    "        * registered_address\n",
    "        * registered_address_in_full\n",
    "        * restricted_for_marketing\n",
    "        * native_company_number\n",
    "  * page\n",
    "  * per_page\n",
    "  * total_pages\n",
    "  * total_count\n",
    "\n",
    "Many of the potentially interesting entries in company, such as 'branch,' 'branch_status,' and 'company_type' are unfortunately often left empty.\n",
    "\n",
    "However, some useful entries stand out:\n",
    "* **incorporation_date** tells you when the company was incorporated.\n",
    "* **jurisdiction_code** in general, this gives the country in which the company was incorporated in 2-letter [ISO country code](http://www.nationsonline.org/oneworld/country_code_list.htm) format. However, smaller entities are also categorized as jurisdictions, such as U.S. states. In this case, the relevant code is given by the [ISO 3166-2](https://en.wikipedia.org/wiki/ISO_3166-2) subcountry code. [Here](https://en.wikipedia.org/wiki/ISO_3166-2:US) is the relevant list for the U.S.\n",
    "* **source** gives details as to where and when the information was obtained.\n",
    "* **company_number** tells us how to find a company within the database, so we can drill down on specific companies. For example, Bunge Ltd., an agrobusiness corporation incorporated in Bermuda, has a company_number of '20791'."
   ]
  },
  {
   "cell_type": "markdown",
   "metadata": {},
   "source": [
    "## Query 2: Bunge Ltd.'s Statements\n",
    "\n",
    "To get the statements for a specific company, one can write a query with the following example format:\n",
    "\n",
    "'https://api.opencorporates.com/v0.4/companies/bm/20791/statements' \n",
    "\n",
    "I generated this query with the following code:"
   ]
  },
  {
   "cell_type": "code",
   "execution_count": 45,
   "metadata": {},
   "outputs": [
    {
     "name": "stdout",
     "output_type": "stream",
     "text": [
      "200\n"
     ]
    }
   ],
   "source": [
    "import requests\n",
    "\n",
    "# Set up URL\n",
    "bunge_id = '20791'\n",
    "bunge_country = 'bm' # jurisdiction code\n",
    "\n",
    "statements_url = \\\n",
    "'https://api.opencorporates.com/v0.4/companies/{}/{}/statements'\\\n",
    ".format(bunge_country, bunge_id)\n",
    "\n",
    "# Perform and process get request\n",
    "r = requests.get(url = statements_url, params={})\n",
    "print(r.status_code)\n",
    "\n",
    "data = r.json()"
   ]
  },
  {
   "cell_type": "markdown",
   "metadata": {},
   "source": [
    "The query requires the jurisdiction code and company ID for a given company, which can be obtained from the response to a search for a company. The response to a statement query looks like this:"
   ]
  },
  {
   "cell_type": "code",
   "execution_count": null,
   "metadata": {
    "collapsed": true
   },
   "outputs": [],
   "source": [
    "{'api_version': '0.4', 'results': {'statements': [<statements>], 'page': 1, 'per_page': 30, 'total_pages': 1, 'total_count': 16}}"
   ]
  },
  {
   "cell_type": "markdown",
   "metadata": {},
   "source": [
    "The 16 statements, which I've excluded in the response above, are themselves massive and confusing JSON objects, such as this one:"
   ]
  },
  {
   "cell_type": "code",
   "execution_count": null,
   "metadata": {
    "collapsed": true
   },
   "outputs": [],
   "source": [
    "{'statement': {'id': 437589035, 'data_type': 'control_statement', 'properties': {'control_level': 'unknown', 'control_mechanisms': [{'mechanism_type': 'share_ownership', 'mechanism_properties': {'exercised_via': None, 'percentage_of_shares': {'minimum': 75, 'maximum': 100, 'exclusive_minimum': True, 'exclusive_maximum': False}}, 'source_description': 'The person holds, directly or indirectly, more than 75% of the shares in the company.'}], 'controlling_entities': [{'entity_type': 'company', 'entity_properties': {'jurisdiction': 'Bermuda', 'company_number': '20791', 'company_type': 'Limited Liability Company', 'name': 'Bunge Limited', 'all_attributes': {'uid': '/company/05913290/persons-with-significant-control/corporate-entity/9VbVi-T72fse--W3ig-8cwOqS8g'}, 'registered_address': {'country': 'Usa', 'locality': 'White Plains', 'postal_code': '10606', 'region': 'Ny', 'street_address': '50 Main Street'}}}], 'other_attributes': {'etag': '67c7da42d470c2097f77c53ce0d11180976acc39', 'ceased_on': None, 'notified_on': '2016-04-06'}, 'retrieved_at': '2016-09-21T13:58:03+00:00', 'subject_entity': {'entity_properties': {'company_number': '05913290', 'jurisdiction_code': 'gb'}, 'entity_type': 'company'}, 'uid': '/company/05913290/persons-with-significant-control/corporate-entity/9VbVi-T72fse--W3ig-8cwOqS8g'}, 'opencorporates_url': 'https://opencorporates.com/statements/437589035', 'start_date': '2016-04-06', 'start_date_type': '<', 'end_date': None, 'end_date_type': None, 'sample_date': '2016-04-06', 'predicate': 'controls', 'subject_entities': [{'entity_type': 'company', 'id': 3796775, 'name': 'Bunge Limited', 'opencorporates_url': 'https://opencorporates.com/companies/bm/20791', 'company_number': '20791', 'jurisdiction_code': 'bm'}], 'object_entities': [{'entity_type': 'company', 'id': 717757, 'name': 'CLIMATE CHANGE CAPITAL CARBON MANAGED ACCOUNT LIMITED', 'opencorporates_url': 'https://opencorporates.com/companies/gb/05913290', 'company_number': '05913290', 'jurisdiction_code': 'gb'}], 'sources': [{'source_url': 'http://download.companieshouse.gov.uk/en_pscdata.html', 'confidence': 90, 'source_type': 'external', 'actor_type': 'bot', 'log_message': None, 'created_at': '2016-10-09T23:35:56+00:00'}]}}"
   ]
  },
  {
   "cell_type": "markdown",
   "metadata": {},
   "source": [
    "However, calling printkeys gives more clarity, yielding the following markdown list:\n",
    "\n",
    "* api_version\n",
    "* results\n",
    "  * statements\n",
    "      * statement\n",
    "        * id\n",
    "        * data_type\n",
    "        * properties\n",
    "          * control_level\n",
    "          * control_mechanisms\n",
    "              * mechanism_type\n",
    "              * mechanism_properties\n",
    "                * exercised_via\n",
    "                * percentage_of_shares\n",
    "                  * minimum\n",
    "                  * maximum\n",
    "                  * exclusive_minimum\n",
    "                  * exclusive_maximum\n",
    "              * source_description\n",
    "          * controlling_entities\n",
    "              * entity_type\n",
    "              * entity_properties\n",
    "                * jurisdiction\n",
    "                * company_number\n",
    "                * company_type\n",
    "                * name\n",
    "                * all_attributes\n",
    "                  * uid\n",
    "                * registered_address\n",
    "                  * country\n",
    "                  * locality\n",
    "                  * postal_code\n",
    "                  * region\n",
    "                  * street_address\n",
    "          * other_attributes\n",
    "            * etag\n",
    "            * ceased_on\n",
    "            * notified_on\n",
    "          * retrieved_at\n",
    "          * subject_entity\n",
    "            * entity_properties\n",
    "              * company_number\n",
    "              * jurisdiction_code\n",
    "            * entity_type\n",
    "          * uid\n",
    "        * opencorporates_url\n",
    "        * start_date\n",
    "        * start_date_type\n",
    "        * end_date\n",
    "        * end_date_type\n",
    "        * sample_date\n",
    "        * predicate\n",
    "        * subject_entities\n",
    "            * entity_type\n",
    "            * id\n",
    "            * name\n",
    "            * opencorporates_url\n",
    "            * company_number\n",
    "            * jurisdiction_code\n",
    "        * object_entities\n",
    "            * entity_type\n",
    "            * id\n",
    "            * name\n",
    "            * opencorporates_url\n",
    "            * company_number\n",
    "            * jurisdiction_code\n",
    "        * sources\n",
    "            * source_url\n",
    "            * confidence\n",
    "            * source_type\n",
    "            * actor_type\n",
    "            * log_message\n",
    "            * created_at\n",
    "  * page\n",
    "  * per_page\n",
    "  * total_pages\n",
    "  * total_count\n",
    "\n",
    "This list provides some interesting details.\n",
    "\n",
    "First, it's important to note that in the case of statements, the 'properties' key depends on the 'data_type'. Since the first element of the 'statements' list had type 'control_statment', we are seeing the keys that a control statement object would have.\n",
    "\n",
    "However, all statements include 'subject_entities' and 'object_entities' fields, which gives details about the companies the statement concerns.\n",
    "\n",
    "Control statements give details about who controls what, and how:\n",
    "* **control_mechanisms** is a list of objects whose attributes describe the means and level of control. In this case, the 'mechanism_type' is 'share_ownership', so the properties include a estimated range for the percentage of shares owned.\n",
    "* **controlling_entities** is a list of objects whose attributes describe the entity in control, such as whether the entity is a company, and if it is, the company number within the opencorporates database.\n",
    "* **subject_entity** (not to be confused with 'subject_entities,' which belongs to all statements) describes the entity being controlled.\n",
    "\n",
    "For example, the JSON object that our sample query returned lists 'Bunge Limited' in the array of 'controlling_entities', and describes the control mechanism under the 'control_mechanisms' field as ownership of a greater than 75% stake in 'CLIMATE CHANGE CAPITAL CARBON MANAGED ACCOUNT LIMITED,' listed under 'object_entities'."
   ]
  },
  {
   "cell_type": "markdown",
   "metadata": {},
   "source": [
    "## Query 3: Search for Michael Bloomberg\n",
    "\n",
    "Finally, opencorporate's API lets you search for officers within companies. Let's try to find Michael Bloomberg:\n",
    "\n",
    "'https://api.opencorporates.com/v0.4/officers/search?jurisdiction_code=us_ny&q=bloomberg'\n",
    "\n",
    "I generated this query with the following code:"
   ]
  },
  {
   "cell_type": "code",
   "execution_count": 11,
   "metadata": {},
   "outputs": [
    {
     "name": "stdout",
     "output_type": "stream",
     "text": [
      "200\n"
     ]
    }
   ],
   "source": [
    "import requests\n",
    "\n",
    "# Set up URL\n",
    "officer_url = 'https://api.opencorporates.com/v0.4/officers/search'\n",
    "\n",
    "# Set up parameters\n",
    "data_params = {\n",
    "    'jurisdiction_code':'us_ny',\n",
    "    'q':'michael+bloomberg'\n",
    "}\n",
    "\n",
    "# Perform and process get request\n",
    "r = requests.get(url = officer_url, params=data_params)\n",
    "print(r.status_code)\n",
    "\n",
    "data = r.json()"
   ]
  },
  {
   "cell_type": "markdown",
   "metadata": {},
   "source": [
    "Here, I'm doing a keyword search for 'michael+bloomberg' using the 'q' parameter, and restricting my results to the jurisdiction 'us_ny' - that is New York state.\n",
    "\n",
    "The API's officer search lets you drill down even more and search for people with specific positions, such as 'CEO,' but this is a new feature, and the naming convention for positions vary wildly, so it typically doesn't return many interesting results.\n",
    "\n",
    "Here is the result for our search:"
   ]
  },
  {
   "cell_type": "code",
   "execution_count": null,
   "metadata": {
    "collapsed": true
   },
   "outputs": [],
   "source": [
    "{'api_version': '0.4', 'results': {'page': 1, 'per_page': 30, 'total_pages': 1, 'total_count': 2, 'officers': [<officers>]}}"
   ]
  },
  {
   "cell_type": "markdown",
   "metadata": {},
   "source": [
    "Here are the two officers that our search returned:"
   ]
  },
  {
   "cell_type": "code",
   "execution_count": null,
   "metadata": {
    "collapsed": true
   },
   "outputs": [],
   "source": [
    "[{'officer': {'id': 225418939, 'uid': None, 'name': 'MICHAEL BLOOMBERG', 'jurisdiction_code': 'us_ny', 'position': 'chief executive officer', 'retrieved_at': '2018-01-23T03:26:17+00:00', 'opencorporates_url': 'https://opencorporates.com/officers/225418939', 'start_date': None, 'end_date': None, 'occupation': None, 'current_status': None, 'inactive': False, 'company': {'name': 'MARLBOROUGH ASSOCIATES, INC.', 'jurisdiction_code': 'us_ny', 'company_number': '1297997', 'opencorporates_url': 'https://opencorporates.com/companies/us_ny/1297997'}}}, {'officer': {'id': 225078260, 'uid': None, 'name': 'MICHAEL BLOOMBERG', 'jurisdiction_code': 'us_ny', 'position': 'chief executive officer', 'retrieved_at': '2016-07-07T13:41:08+00:00', 'opencorporates_url': 'https://opencorporates.com/officers/225078260', 'start_date': None, 'end_date': None, 'occupation': None, 'current_status': None, 'inactive': True, 'company': {'name': 'BLOOMBERG ASIA INC.', 'jurisdiction_code': 'us_ny', 'company_number': '1210780', 'opencorporates_url': 'https://opencorporates.com/companies/us_ny/1210780'}}}]"
   ]
  },
  {
   "cell_type": "markdown",
   "metadata": {},
   "source": [
    "For more clarity, here's the markdown list for the JSON object returned by our search:\n",
    "\n",
    "* api_version\n",
    "* results\n",
    "  * page\n",
    "  * per_page\n",
    "  * total_pages\n",
    "  * total_count\n",
    "  * officers\n",
    "      * officer\n",
    "        * id\n",
    "        * uid\n",
    "        * name\n",
    "        * jurisdiction_code\n",
    "        * position\n",
    "        * retrieved_at\n",
    "        * opencorporates_url\n",
    "        * start_date\n",
    "        * end_date\n",
    "        * occupation\n",
    "        * current_status\n",
    "        * inactive\n",
    "        * company\n",
    "          * name\n",
    "          * jurisdiction_code\n",
    "          * company_number\n",
    "          * opencorporates_url\n",
    "\n",
    "Sadly, many of the useful fields are often left empty, such as 'start_date' and 'end_date.' However, it is possible to find information about the company the officer works at, as well as the name and position of the officer.\n",
    "\n",
    "In this case, our search returned two officers, both named 'MICHAEL BLOOMBERG,' and one of which is the 'chief executive officer' of 'MARLBOROUGH Associates, Inc.' and the other of which is the 'chief executive officer' of 'BLOOMBERG ASIA INC.' This is enough to tell us that the second one is the Michael Bloomberg that we all know."
   ]
  }
 ],
 "metadata": {
  "kernelspec": {
   "display_name": "Python 3",
   "language": "python",
   "name": "python3"
  },
  "language_info": {
   "codemirror_mode": {
    "name": "ipython",
    "version": 3
   },
   "file_extension": ".py",
   "mimetype": "text/x-python",
   "name": "python",
   "nbconvert_exporter": "python",
   "pygments_lexer": "ipython3",
   "version": "3.6.3"
  }
 },
 "nbformat": 4,
 "nbformat_minor": 2
}
